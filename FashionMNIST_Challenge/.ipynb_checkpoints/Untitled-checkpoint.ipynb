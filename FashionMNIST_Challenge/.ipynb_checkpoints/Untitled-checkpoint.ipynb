{
 "cells": [
  {
   "cell_type": "code",
   "execution_count": 13,
   "metadata": {},
   "outputs": [],
   "source": [
    "\n",
    "from __future__ import print_function\n",
    "\n",
    "import numpy as np\n",
    "import tensorflow as tf\n",
    "from tensorflow.contrib.factorization import KMeans\n",
    "\n",
    "# Ignore all GPUs, tf random forest does not benefit from it.\n",
    "# import os\n",
    "# os.environ[\"CUDA_VISIBLE_DEVICES\"]= \"\""
   ]
  },
  {
   "cell_type": "code",
   "execution_count": 14,
   "metadata": {},
   "outputs": [
    {
     "name": "stdout",
     "output_type": "stream",
     "text": [
      "Extracting data/train-images-idx3-ubyte.gz\n",
      "Extracting data/train-labels-idx1-ubyte.gz\n",
      "Extracting data/t10k-images-idx3-ubyte.gz\n",
      "Extracting data/t10k-labels-idx1-ubyte.gz\n"
     ]
    }
   ],
   "source": [
    "# Import MNIST data\n",
    "from tensorflow.examples.tutorials.mnist import input_data\n",
    "mnist = input_data.read_data_sets(\"data/\", one_hot=True)\n",
    "# full_data_x = mnist.train.images"
   ]
  },
  {
   "cell_type": "code",
   "execution_count": 15,
   "metadata": {},
   "outputs": [],
   "source": [
    "# Parameters\n",
    "num_steps = 50 # Total steps to train\n",
    "batch_size = 1024 # The number of samples per batch\n",
    "k = 25 # The number of clusters\n",
    "num_classes = 10 # The 10 digits\n",
    "num_features = 784 # Each image is 28x28 pixels\n",
    "\n",
    "# Input images\n",
    "X = tf.placeholder(tf.float32, shape=[None, num_features])\n",
    "# Labels (for assigning a label to a centroid and testing)\n",
    "Y = tf.placeholder(tf.float32, shape=[None, num_classes])\n",
    "\n",
    "# K-Means Parameters\n",
    "kmeans = KMeans(inputs=X, num_clusters=k, distance_metric='cosine',\n",
    "                use_mini_batch=True)"
   ]
  },
  {
   "cell_type": "code",
   "execution_count": 16,
   "metadata": {},
   "outputs": [],
   "source": [
    "# Build KMeans graph\n",
    "(all_scores, cluster_idx, scores, cluster_centers_initialized, init_op,\n",
    "train_op) = kmeans.training_graph()\n",
    "cluster_idx = cluster_idx[0] # fix for cluster_idx being a tuple\n",
    "avg_distance = tf.reduce_mean(scores)\n",
    "\n",
    "# Initialize the variables (i.e. assign their default value)\n",
    "# init_vars = tf.global_variables_initializer()"
   ]
  },
  {
   "cell_type": "code",
   "execution_count": 17,
   "metadata": {},
   "outputs": [
    {
     "name": "stdout",
     "output_type": "stream",
     "text": [
      "Step 1, Avg Distance: 0.160441\n",
      "Step 10, Avg Distance: 0.100762\n",
      "Step 20, Avg Distance: 0.099565\n",
      "Step 30, Avg Distance: 0.098987\n",
      "Step 40, Avg Distance: 0.098693\n",
      "Step 50, Avg Distance: 0.098508\n"
     ]
    }
   ],
   "source": [
    "# Start TensorFlow session\n",
    "with tf.Session() as sess:\n",
    "# Run the initializer（运行初始化）\n",
    "\n",
    "    tf.global_variables_initializer().run()\n",
    "    \n",
    "    sess.run(init_op, feed_dict={X: full_data_x})\n",
    "\n",
    "# Training（训练）\n",
    "    for i in range(1, num_steps + 1):\n",
    "#     for i in range(num_steps):\n",
    "\n",
    "        _, d, idx = sess.run([train_op, avg_distance, cluster_idx],\n",
    "                             feed_dict={X: full_data_x})\n",
    "        if i % 10 == 0 or i == 1:\n",
    "            print(\"Step %i, Avg distance: %f\" % (i, d))"
   ]
  },
  {
   "cell_type": "code",
   "execution_count": 12,
   "metadata": {},
   "outputs": [
    {
     "name": "stdout",
     "output_type": "stream",
     "text": [
      "Test Accuracy: 0.6464\n"
     ]
    }
   ],
   "source": [
    "# Assign a label to each centroid\n",
    "# Count total number of labels per centroid, using the label of each training\n",
    "# sample to their closest centroid (given by 'idx')\n",
    "counts = np.zeros(shape=(k, num_classes))\n",
    "for i in range(len(idx)):\n",
    "    counts[idx[i]] += mnist.train.labels[i]\n",
    "# Assign the most frequent label to the centroid\n",
    "labels_map = [np.argmax(c) for c in counts]\n",
    "labels_map = tf.convert_to_tensor(labels_map)\n",
    "\n",
    "# Evaluation ops\n",
    "# Lookup: centroid_id -> label\n",
    "'''\n",
    " tf.nn.embedding_lookup\n",
    " 第一个参数为所要转变为列向量的行向量，第二个参数为排列的行向量的索引号\n",
    "'''\n",
    "cluster_label = tf.nn.embedding_lookup(labels_map, cluster_idx)\n",
    "'''\n",
    "求平均值tf.reduce_mean(input_tensor, reduction_indices=None, keep_dims=False, name=None)\n",
    "\n",
    "参数1--input_tensor:待求值的tensor。\n",
    "\n",
    "参数2--reduction_indices:在哪一维上求解。\n",
    "\n",
    "参数（3）（4）可忽略\n",
    "求均值，tf.reduce_mean(x,0）列求均值  tf.reduce_mean(x,1)行求均值\n",
    "\n",
    "\n",
    "cast(x, dtype, name=None)\n",
    "将x的数据格式转化成dtype.例如，原来x的数据格式是bool，\n",
    "那么将其转化成float以后，就能够将其转化成0和1的序列。反之也可以\n",
    "'''\n",
    "correct_prediction = tf.equal(cluster_label, tf.cast(tf.argmax(Y, 1), tf.int32))\n",
    "accuracy_op = tf.reduce_mean(tf.cast(correct_prediction, tf.float32))\n",
    "\n",
    "# Test Model  加载测试集的图片标签\n",
    "test_x, test_y = mnist.test.images, mnist.test.labels\n",
    "print(\"Test Accuracy:\", sess.run(accuracy_op, feed_dict={X: test_x, Y: test_y}))"
   ]
  },
  {
   "cell_type": "code",
   "execution_count": null,
   "metadata": {},
   "outputs": [],
   "source": []
  }
 ],
 "metadata": {
  "kernelspec": {
   "display_name": "Python 3",
   "language": "python",
   "name": "python3"
  },
  "language_info": {
   "codemirror_mode": {
    "name": "ipython",
    "version": 3
   },
   "file_extension": ".py",
   "mimetype": "text/x-python",
   "name": "python",
   "nbconvert_exporter": "python",
   "pygments_lexer": "ipython3",
   "version": "3.6.2"
  }
 },
 "nbformat": 4,
 "nbformat_minor": 2
}
