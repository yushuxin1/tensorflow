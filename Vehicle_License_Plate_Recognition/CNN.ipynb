{
 "cells": [
  {
   "cell_type": "code",
   "execution_count": 15,
   "metadata": {},
   "outputs": [
    {
     "name": "stdout",
     "output_type": "stream",
     "text": [
      "Extracting ../daima/data/train-images-idx3-ubyte.gz\n",
      "Extracting ../daima/data/train-labels-idx1-ubyte.gz\n",
      "Extracting ../daima/data/t10k-images-idx3-ubyte.gz\n",
      "Extracting ../daima/data/t10k-labels-idx1-ubyte.gz\n",
      "WARNING:tensorflow:From /home/ysx/.virtualenvs/tensorflow_env/lib/python3.6/site-packages/tensorflow/python/util/tf_should_use.py:175: initialize_all_variables (from tensorflow.python.ops.variables) is deprecated and will be removed after 2017-03-02.\n",
      "Instructions for updating:\n",
      "Use `tf.global_variables_initializer` instead.\n",
      "0.1\n"
     ]
    }
   ],
   "source": [
    "# -*- coding: utf-8 -*-\n",
    "import tensorflow as tf\n",
    "\n",
    "#导入input_data用于自动下载和安装MNIST数据集\n",
    "from tensorflow.examples.tutorials.mnist import input_data\n",
    "\n",
    "mnist = input_data.read_data_sets(\"../daima/data/\", one_hot=True)\n",
    "\n",
    "#放置占位符，用于在计算时接收输入值\n",
    "x = tf.placeholder(\"float\", [None, 784])\n",
    "\n",
    "#创建两个变量，分别用来存放权重值W和偏置值b\n",
    "W = tf.Variable(tf.zeros([784, 10]))\n",
    "b = tf.Variable(tf.zeros([10]))\n",
    "\n",
    "#使用Tensorflow提供的回归模型softmax，y代表输出\n",
    "y = tf.nn.softmax(tf.matmul(x, W) + b)\n",
    "\n",
    "#为了进行训练，需要把正确值一并传入网络\n",
    "y_ = tf.placeholder(\"float\", [None,10])\n",
    "\n",
    "#计算交叉墒\n",
    "cross_entropy = -tf.reduce_sum(y_ * tf.log(y))\n",
    "\n",
    "#使用梯度下降算法以0.01的学习率最小化交叉墒\n",
    "train_step = tf.train.GradientDescentOptimizer(0.01).minimize(cross_entropy)\n",
    "\n",
    "#初始化之前创建的变量的操作\n",
    "init = tf.initialize_all_variables()\n",
    "\n",
    "#启动初始化\n",
    "sess = tf.Session()\n",
    "sess.run(init)\n",
    "\n",
    "#开始训练模型，循环1000次，每次都会随机抓取训练数据中的100条数据，然后作为参数替换之前的占位符来运行train_step\n",
    "for i in range(1000):\n",
    "    batch_xs, batch_ys = mnist.train.next_batch(100)\n",
    "    sess.run(train_step, feed_dict={x: batch_xs, y_: batch_ys})\n",
    "\n",
    "#评估模型，tf.argmax能给出某个tensor对象在某一维上数据最大值的索引。因为标签是由0,1组成了one-hot vector，返回的索引就是数值为1的位置\n",
    "correct_prediction = tf.equal(tf.argmax(y, 1), tf.argmax(y_, 1)) \n",
    "\n",
    "#计算正确预测项的比例，因为tf.equal返回的是布尔值，使用tf.cast可以把布尔值转换成浮点数，tf.reduce_mean是求平均值\n",
    "accuracy = tf.reduce_mean(tf.cast(correct_prediction, \"float\"))\n",
    "\n",
    "#在session中启动accuracy，输入是MNIST中的测试集\n",
    "print (sess.run(accuracy, feed_dict={x: mnist.test.images, y_: mnist.test.labels}))"
   ]
  },
  {
   "cell_type": "code",
   "execution_count": null,
   "metadata": {},
   "outputs": [],
   "source": []
  }
 ],
 "metadata": {
  "kernelspec": {
   "display_name": "Python 3",
   "language": "python",
   "name": "python3"
  },
  "language_info": {
   "codemirror_mode": {
    "name": "ipython",
    "version": 3
   },
   "file_extension": ".py",
   "mimetype": "text/x-python",
   "name": "python",
   "nbconvert_exporter": "python",
   "pygments_lexer": "ipython3",
   "version": "3.6.2"
  }
 },
 "nbformat": 4,
 "nbformat_minor": 2
}
